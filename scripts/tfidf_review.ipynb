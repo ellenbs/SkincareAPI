{
 "cells": [
  {
   "cell_type": "code",
   "execution_count": 1,
   "metadata": {},
   "outputs": [
    {
     "data": {
      "text/html": [
       "<div>\n",
       "<style scoped>\n",
       "    .dataframe tbody tr th:only-of-type {\n",
       "        vertical-align: middle;\n",
       "    }\n",
       "\n",
       "    .dataframe tbody tr th {\n",
       "        vertical-align: top;\n",
       "    }\n",
       "\n",
       "    .dataframe thead th {\n",
       "        text-align: right;\n",
       "    }\n",
       "</style>\n",
       "<table border=\"1\" class=\"dataframe\">\n",
       "  <thead>\n",
       "    <tr style=\"text-align: right;\">\n",
       "      <th></th>\n",
       "      <th>Marca</th>\n",
       "      <th>Nome</th>\n",
       "      <th>Review</th>\n",
       "    </tr>\n",
       "  </thead>\n",
       "  <tbody>\n",
       "    <tr>\n",
       "      <th>0</th>\n",
       "      <td>CAUDALIE</td>\n",
       "      <td>SOLUÇÃO SECATIVA SALICÍLICA CAUDALIE VINOPURE</td>\n",
       "      <td>Produto bom e eficaz, porém a esbalagem é muit...</td>\n",
       "    </tr>\n",
       "    <tr>\n",
       "      <th>1</th>\n",
       "      <td>SEPHORA COLLECTION</td>\n",
       "      <td>GEL DE LIMPEZA FACIAL ANTI-IMPERFEIÇÕES SEPHOR...</td>\n",
       "      <td>Não é irritante, não resseca, não queima a pel...</td>\n",
       "    </tr>\n",
       "    <tr>\n",
       "      <th>2</th>\n",
       "      <td>SHISEIDO</td>\n",
       "      <td>CREME HIDRATANTE SHISEIDO VITAL PERFECTION UPL...</td>\n",
       "      <td>Não dou 5 estrelas apenas pelo sensorial, é um...</td>\n",
       "    </tr>\n",
       "    <tr>\n",
       "      <th>3</th>\n",
       "      <td>SHISEIDO</td>\n",
       "      <td>CREME HIDRATANTE SHISEIDO VITAL PERFECTION UPL...</td>\n",
       "      <td>Estou na metade do primeiro. É maravilhoso! Nã...</td>\n",
       "    </tr>\n",
       "    <tr>\n",
       "      <th>4</th>\n",
       "      <td>SHISEIDO</td>\n",
       "      <td>BÁLSAMO MULTIFUNCIONAL SHISEIDO WASO CALMELLIA...</td>\n",
       "      <td>Muito bom! é literalmente um balm m-u-l-t-i-f-...</td>\n",
       "    </tr>\n",
       "  </tbody>\n",
       "</table>\n",
       "</div>"
      ],
      "text/plain": [
       "                Marca                                               Nome  \\\n",
       "0            CAUDALIE      SOLUÇÃO SECATIVA SALICÍLICA CAUDALIE VINOPURE   \n",
       "1  SEPHORA COLLECTION  GEL DE LIMPEZA FACIAL ANTI-IMPERFEIÇÕES SEPHOR...   \n",
       "2            SHISEIDO  CREME HIDRATANTE SHISEIDO VITAL PERFECTION UPL...   \n",
       "3            SHISEIDO  CREME HIDRATANTE SHISEIDO VITAL PERFECTION UPL...   \n",
       "4            SHISEIDO  BÁLSAMO MULTIFUNCIONAL SHISEIDO WASO CALMELLIA...   \n",
       "\n",
       "                                              Review  \n",
       "0  Produto bom e eficaz, porém a esbalagem é muit...  \n",
       "1  Não é irritante, não resseca, não queima a pel...  \n",
       "2  Não dou 5 estrelas apenas pelo sensorial, é um...  \n",
       "3  Estou na metade do primeiro. É maravilhoso! Nã...  \n",
       "4  Muito bom! é literalmente um balm m-u-l-t-i-f-...  "
      ]
     },
     "execution_count": 1,
     "metadata": {},
     "output_type": "execute_result"
    }
   ],
   "source": [
    "import pandas as pd\n",
    "reviews = pd.read_csv(\"sephora_reviews.csv\")\n",
    "reviews.head()"
   ]
  },
  {
   "cell_type": "code",
   "execution_count": 2,
   "metadata": {},
   "outputs": [],
   "source": [
    "from sklearn.feature_extraction.text import TfidfVectorizer\n",
    "def initialize_vectorizer(reviews):\n",
    "    vectorizer = TfidfVectorizer()\n",
    "    X = vectorizer.fit_transform(reviews['Review'])\n",
    "    return vectorizer, X"
   ]
  },
  {
   "cell_type": "code",
   "execution_count": 7,
   "metadata": {},
   "outputs": [
    {
     "data": {
      "text/plain": [
       "array([['ÓLEO FACIAL HIDRATANTE DRUNK ELEPHANT VIRGIN MARULA LUXURY FACIAL OIL',\n",
       "        0.4526359442318201],\n",
       "       ['ÓLEO FACIAL HIDRATANTE DRUNK ELEPHANT VIRGIN MARULA LUXURY FACIAL OIL',\n",
       "        0.4526359442318201],\n",
       "       ['LOÇÃO TONIFICANTE HIDRATANTE CLARINS', 0.3701377856699146],\n",
       "       ['DOUBLE SÉRUM AVANÇADO GUERLAIN ABEILLE ROYALE',\n",
       "        0.2791251059008405],\n",
       "       ['BEE GLOW - HIDRATAÇÃO COM EFEITO DEWY - ABEILLE ROYALE',\n",
       "        0.24021951119540155],\n",
       "       ['BEE GLOW - HIDRATAÇÃO COM EFEITO DEWY - ABEILLE ROYALE',\n",
       "        0.24021951119540155],\n",
       "       ['GEL DE LIMPEZA FACIAL ANTI-IMPERFEIÇÕES SEPHORA COLLECTION FACE & BODY CLEANSER',\n",
       "        0.22896819174932673],\n",
       "       ['DOUBLE SÉRUM AVANÇADO GUERLAIN ABEILLE ROYALE',\n",
       "        0.22643544809082053],\n",
       "       ['TRATAMENTO COM COR PARA MARCAS E IMPERFEIÇÕES SHISEIDO WASO KOSHIRICE TINTED SPOT TREATMENT',\n",
       "        0.1911219231359547],\n",
       "       ['BALM DE LIMPEZA BANILA CO CLEAN IT ZERO ORIGINAL BY HELLO KITTY',\n",
       "        0.17899309516824305]], dtype=object)"
      ]
     },
     "execution_count": 7,
     "metadata": {},
     "output_type": "execute_result"
    }
   ],
   "source": [
    "import numpy as np\n",
    "vectorizer, X = initialize_vectorizer(reviews)\n",
    "\n",
    "query_vector = vectorizer.transform([\"acne\"])\n",
    "scores = np.array(X.dot(query_vector.T).todense()).flatten()\n",
    "\n",
    "reviews['Relevance Score'] = scores\n",
    "threshold = 0.01\n",
    "filtered_df = reviews[reviews['Relevance Score'] > threshold]\n",
    "sorted_df = filtered_df.sort_values(by='Relevance Score', ascending=False)\n",
    "\n",
    "results = []\n",
    "results.append(sorted_df['Nome'].values)\n",
    "results.append(sorted_df['Relevance Score'].values)\n",
    "results = np.array(results).T\n",
    "results[:10]"
   ]
  },
  {
   "cell_type": "code",
   "execution_count": null,
   "metadata": {},
   "outputs": [],
   "source": []
  }
 ],
 "metadata": {
  "kernelspec": {
   "display_name": "Python 3",
   "language": "python",
   "name": "python3"
  },
  "language_info": {
   "codemirror_mode": {
    "name": "ipython",
    "version": 3
   },
   "file_extension": ".py",
   "mimetype": "text/x-python",
   "name": "python",
   "nbconvert_exporter": "python",
   "pygments_lexer": "ipython3",
   "version": "3.9.6"
  }
 },
 "nbformat": 4,
 "nbformat_minor": 2
}
